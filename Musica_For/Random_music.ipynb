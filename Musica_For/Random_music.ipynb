{
 "cells": [
  {
   "cell_type": "markdown",
   "metadata": {},
   "source": [
    "<h1> Trabalho Música Formalizada </h1>\n",
    "\n",
    "    Aluno: Natanael Luciano de Matos"
   ]
  },
  {
   "cell_type": "markdown",
   "metadata": {},
   "source": [
    "caso não tenha o scamp instalado, execute as linha de codigo abaixo no seu cmd:\n",
    "\n",
    "pip install scamp\n",
    "pip3 install --user scamp_extensions\n",
    "\n",
    "a visualização da partitura é feita usando lilypond\n",
    "\n",
    "Site do scamp: http://scamp.marcevanstein.com/index.html"
   ]
  },
  {
   "cell_type": "markdown",
   "metadata": {},
   "source": [
    "Importando as bibliotecas necessárias"
   ]
  },
  {
   "cell_type": "code",
   "execution_count": 2,
   "metadata": {},
   "outputs": [],
   "source": [
    "from scamp import *\n",
    "import random\n",
    "import numpy as np"
   ]
  },
  {
   "cell_type": "markdown",
   "metadata": {},
   "source": [
    "Verificar se a instalação foi realizada com sucesso "
   ]
  },
  {
   "cell_type": "code",
   "execution_count": 15,
   "metadata": {
    "scrolled": true
   },
   "outputs": [],
   "source": [
    "\n",
    "#test_run.play(show_lilypond=True)\n"
   ]
  },
  {
   "cell_type": "markdown",
   "metadata": {},
   "source": [
    "   A ideia por tras da elaboração do trabalho teve como base selecionar uma sequência de notas base, suas quintas e oitavas. \n",
    "Essa configuração de nota permite construir uma sequencia musical aleatória relativamente hamorniosa.\n",
    "As escolhas das notas estão representadas em valores MIDI no código abaixo.\n",
    "\n",
    "A tabela utilizada para escolher esses valores se encontra em: https://www.inspiredacoustics.com/en/MIDI_note_numbers_and_center_frequencies"
   ]
  },
  {
   "cell_type": "code",
   "execution_count": 3,
   "metadata": {},
   "outputs": [],
   "source": [
    "#\"major\"\n",
    "pitchs = list(np.array([24,26,28,29,31,33,35,36]) + 12)\n",
    "#\"quintas\"\n",
    "pitchs_5 = [43,45,47,48,50,52,53,55]\n",
    "#\"oitavas\"\n",
    "pitchs_8 = list(np.array([24,26,28,29,31,33,35,36]) + 24)\n"
   ]
  },
  {
   "cell_type": "markdown",
   "metadata": {},
   "source": [
    "Além da escolha de notas, as dinâmicas de forte piano e diminuendo foram utilizadas para variar o tempo da música e gerar uma \n",
    "estrutura mais complexa e sonoramente interessante."
   ]
  },
  {
   "cell_type": "code",
   "execution_count": 4,
   "metadata": {},
   "outputs": [],
   "source": [
    "forte_piano = Envelope.from_levels_and_durations(\n",
    "    [0.8,0.4,1], [0.2,0.8], curve_shapes = [0,3]    #entendi a ideia, mas não sei exatamente\n",
    "    #como fuinciona 'teoricamente' essa variação fortepiano. Peguei a ideia nos vídeos que \n",
    "    #andei assistindo\n",
    ")\n",
    "\n",
    "diminuendo = Envelope.from_levels([0.8,0.3])"
   ]
  },
  {
   "cell_type": "markdown",
   "metadata": {},
   "source": [
    "O código abaixo gera uma pequena sequência de notas musicais, além de gerar uma partitura.\n",
    "Os instrumentos de escolha para a elaboração do trabalho foram dois Cellos."
   ]
  },
  {
   "cell_type": "code",
   "execution_count": 6,
   "metadata": {},
   "outputs": [
    {
     "name": "stdout",
     "output_type": "stream",
     "text": [
      "Using preset Cello LP for Cello\n"
     ]
    }
   ],
   "source": [
    "s = Session()     #check if it´s all ok\n",
    "Cello = s.new_part('Cello')\n",
    "s.start_transcribing()\n",
    "for i in range(6):\n",
    "    Cello.play_note(random.choice(random.choice([pitchs,pitchs_5,pitchs_8])),1,1)\n",
    "    \n",
    "s.stop_transcribing().to_score().show()    # Termina a sessão e gera a partitura"
   ]
  },
  {
   "cell_type": "markdown",
   "metadata": {},
   "source": [
    "Como Parte Probabilística, esse trabalho decidiu escolher as notas a serem tocadas da seguinte forma.\n",
    "\n",
    "   * Um valor é sorteado de uma distribuição uniforme padrão.\n",
    "    \n",
    "   * Com probabilidades 50%,30%,20% podemos tocar notas ,respectivamente, de pitchs, pitchs_5, e pitchs_8.\n",
    "   \n",
    "   * As notas de pitchs são escolhidas aleatoriamente juntamente com dinâmica e o tempo.\n",
    "   \n",
    "Ademais, Para tentarmos inserir uma sequência que lembrasse um solo, foi implementada uma sequência de rápida sucessão\n",
    "   de notas."
   ]
  },
  {
   "cell_type": "code",
   "execution_count": 20,
   "metadata": {},
   "outputs": [
    {
     "name": "stdout",
     "output_type": "stream",
     "text": [
      "Using preset Cello LP for Cello\n",
      "Using preset Cello LP for Cello\n"
     ]
    }
   ],
   "source": [
    "s = Session()     \n",
    "Cello = s.new_part('Cello')\n",
    "Cello2 = s.new_part('Cello')\n",
    "s.start_transcribing()\n",
    "\n",
    "while s.time()< 50:   # set the song time in sec   120 = 1 min\n",
    "    choice = random.random()\n",
    "    if choice < 0.5:\n",
    "        pitch = random.choice(pitchs)\n",
    "        Cello2.play_note(pitch,random.choice([forte_piano,1]),random.choice([1,1.5,2]))\n",
    "                        \n",
    "    elif 0.5<= choice <=0.8:\n",
    "        if random.random()<0.05:\n",
    "            Cello.play_note(random.choice([42,46,47]),1,random.choice([0.5,0.25,1]))\n",
    "        \n",
    "        pitch = random.choice(pitchs_5)\n",
    "        for i in range(random.randint(2,3)):\n",
    "            Cello.play_note(pitch,diminuendo,random.choice([0.5,0.25,1]))\n",
    "            \n",
    "    else:\n",
    "        for i in range(4):\n",
    "            if random.random()<0.05:\n",
    "                Cello.play_note(random.choice(list(np.array(pitchs_5)+2)),random.choice([forte_piano,1]),0.5)\n",
    "            pitch = random.choice(pitchs_8)\n",
    "            Cello.play_note(pitch,1,0.25)\n",
    "           \n",
    "                    \n",
    "    \n",
    "s.stop_transcribing().to_score(title = 'Cello Ballad',composer = 'Natanael Luciano').show()  \n",
    "s.kill()"
   ]
  },
  {
   "cell_type": "markdown",
   "metadata": {},
   "source": [
    "    Além da opção de gerar a partitura em um arquivo pdf, também é possível exporta-la para music_xml."
   ]
  },
  {
   "cell_type": "markdown",
   "metadata": {},
   "source": [
    "Além das passagem pelas quintas e oitavas, implementamos uma probabilidade $p = 0.05%$ de tocar uma nota de passagem, aumentando\n",
    "os possíveis outputs."
   ]
  },
  {
   "cell_type": "markdown",
   "metadata": {},
   "source": [
    "Inicialmente, pensei em realizar uma implementação completamente aléatória das notas, onde seus valores seriam escolhidos\n",
    "de uma distribuição uniforme(12,127). Mas esse tipo de composição geraria muito ruido, e para construir algo sonoramente \n",
    "agradável seria necessário muito investimento de tempo no pós processamento. Por isso essá ideia foi descartada.\n",
    "Por motivos similares, decidi não implementar usando Zipf.\n",
    "Sendo assim, cheguei a conclusão que para diminuir o tempo no pós processamento precisava diminuir \n",
    "o nível de aleatóriedade das notas. O que originou a criação do vetor pitchs. Esse vetor contem uma sequencia de oito tons \n",
    "começando em C2.\n",
    "\n",
    "Veja o código abaixo."
   ]
  },
  {
   "cell_type": "code",
   "execution_count": 5,
   "metadata": {},
   "outputs": [
    {
     "name": "stdout",
     "output_type": "stream",
     "text": [
      "Using preset Cello LP for Cello\n"
     ]
    }
   ],
   "source": [
    "s = Session()  \n",
    "Cello = s.new_part('Cello')\n",
    "s.start_transcribing()\n",
    "for i in range(6):\n",
    "    Cello.play_note(random.choice(pitchs),1,1)\n",
    "    \n",
    "s.stop_transcribing().to_score().show()    # Termina a sessão e gera a partitura"
   ]
  },
  {
   "cell_type": "markdown",
   "metadata": {},
   "source": [
    "Como podemos ver, as notas escolhidas, mesmo que aleatóriamente, desse conjunto nos retorna um som agradável. Entretanto essa composição é tediosa, já que não tem variação em tempo, duração, ou dinâmica.\n",
    "Oque nos leva à criação de outros dois conjuntos de notas: Pitchs_5, Pitchs_8. Esses conjuntos contem , respectivamente,\n",
    "as quintas e as oitavas das notas em pitchs. Com isso, podemos aumentar a variedade de notas e manter uma sonoridade agradável.\n"
   ]
  },
  {
   "cell_type": "code",
   "execution_count": 11,
   "metadata": {},
   "outputs": [
    {
     "name": "stdout",
     "output_type": "stream",
     "text": [
      "Using preset Cello LP for Cello\n",
      "done\n"
     ]
    }
   ],
   "source": [
    "s = Session()  \n",
    "Cello = s.new_part('Cello')\n",
    "s.start_transcribing()\n",
    "for i in range(10):\n",
    "        Cello.play_note(random.choice(random.choice([pitchs,pitchs_5,pitchs_8])),1,1)\n",
    "\n",
    "_ = s.stop_transcribing().to_score()\n",
    "print('done')"
   ]
  },
  {
   "cell_type": "markdown",
   "metadata": {},
   "source": [
    "Diferente da primeira simulação, é possível notar uma clara diferença na qualidade das composições.\n",
    "Entretanto, as notas ainda possuem um tempo de duração fixo. Para contornar esse problema, decidi escolher\n",
    "aleatóriamente a duração das notas, além de implementar as dinâmicas de fortepiano e diminuendo, \n",
    "ambas sendo executadas aleatóriamente. "
   ]
  },
  {
   "cell_type": "code",
   "execution_count": 10,
   "metadata": {},
   "outputs": [
    {
     "name": "stdout",
     "output_type": "stream",
     "text": [
      "Using preset Cello LP for Cello\n"
     ]
    }
   ],
   "source": [
    "s = Session()  \n",
    "Cello = s.new_part('Cello')\n",
    "s.start_transcribing()\n",
    "for i in range(10):\n",
    "    Cello.play_note(random.choice(random.choice([pitchs,pitchs_5,pitchs_8])),random.choice([forte_piano,diminuendo,1]),random.choice([1,1.5,2]))\n",
    "\n",
    "_ = s.stop_transcribing().to_score()\n",
    "print('done')"
   ]
  },
  {
   "cell_type": "markdown",
   "metadata": {},
   "source": [
    "Agora podemos notar uma estrutura completamente distinta da anterior, mas como minha intenção inicial era gerar interalos que \n",
    "lembrassem à solos de Rock, decidi mudar a estrutura da composição. Para isso criei três possíveis eventos com probabilidades \n",
    "citadas inicialmente nesse trabalho. Finalizando assim minha composição aleatória. \n",
    "Em resumo, forças volativas tiveram uma grande influencia nesse trabalho."
   ]
  },
  {
   "cell_type": "code",
   "execution_count": null,
   "metadata": {},
   "outputs": [],
   "source": []
  }
 ],
 "metadata": {
  "kernelspec": {
   "display_name": "Python 3",
   "language": "python",
   "name": "python3"
  },
  "language_info": {
   "codemirror_mode": {
    "name": "ipython",
    "version": 3
   },
   "file_extension": ".py",
   "mimetype": "text/x-python",
   "name": "python",
   "nbconvert_exporter": "python",
   "pygments_lexer": "ipython3",
   "version": "3.8.3"
  }
 },
 "nbformat": 4,
 "nbformat_minor": 2
}
