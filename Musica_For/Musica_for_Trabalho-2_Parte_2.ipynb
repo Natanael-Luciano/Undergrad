{
 "cells": [
  {
   "cell_type": "markdown",
   "metadata": {},
   "source": [
    "<h1> Trabalho Música Formalizada Parte-2 </h1>\n",
    "\n",
    "    Aluno: Natanael Luciano de Matos"
   ]
  },
  {
   "cell_type": "markdown",
   "metadata": {},
   "source": [
    "caso não tenha o scamp instalado, execute as linha de codigo abaixo no seu cmd \n",
    "pip install scamp\n",
    "pip3 install --user scamp_extensions\n",
    "\n",
    "a visualização da partitura é feita usando lilypond\n",
    "\n",
    "Site do scamp: http://scamp.marcevanstein.com/index.html"
   ]
  },
  {
   "cell_type": "code",
   "execution_count": 2,
   "metadata": {},
   "outputs": [],
   "source": [
    "from scamp import *\n",
    "import random\n",
    "import scipy.stats as st\n",
    "import numpy as np\n",
    "#se o senhor receber uma mensagem de aviso, basta importar as bibliotecas novamente."
   ]
  },
  {
   "cell_type": "code",
   "execution_count": 537,
   "metadata": {},
   "outputs": [],
   "source": [
    "def Markov_matrix(size, func = st.uniform.rvs):\n",
    "    #gera a matriz de transição com tamanho size*size, e com valores distribuidos segundo func\n",
    "    A = func(size = size**2)\n",
    "    A = A.reshape(size,size)\n",
    "    for i in range(size):\n",
    "        A[i][:] = A[i][:]/sum(A[i][:]) #normalizando as probabilidades\n",
    "    A = np.matrix(A)\n",
    "    #print('Matriz de transição = {}'.format(A))\n",
    "    return A"
   ]
  },
  {
   "cell_type": "code",
   "execution_count": 520,
   "metadata": {},
   "outputs": [],
   "source": [
    "#instruments range in midi\n",
    "#cello\n",
    "pitchs_cello = list(range(36,49))\n",
    "\n",
    "#harp\n",
    "pitchs_harp = list(range(30,61))\n",
    "\n",
    "#violin\n",
    "pitchs_violin = list(range(48,70))\n"
   ]
  },
  {
   "cell_type": "code",
   "execution_count": 521,
   "metadata": {},
   "outputs": [
    {
     "name": "stdout",
     "output_type": "stream",
     "text": [
      "Using preset Harp LP2 for Harp\n"
     ]
    }
   ],
   "source": [
    "s = Session()     #check if it´s all ok\n",
    "Harp = s.new_part('Harp')\n",
    "for i in pitchs_harp[::10]:\n",
    "    Harp.play_note(i,1,1)\n"
   ]
  },
  {
   "cell_type": "code",
   "execution_count": 522,
   "metadata": {},
   "outputs": [],
   "source": [
    "def note_gen(A,pitchs,n_notas,old):\n",
    "    #função geradora de notas. gera as notas conforme uma cadeia de markov dada pela matriz A\n",
    "    #gera  a = n_notas notas  \n",
    "    u = np.zeros(len(pitchs))\n",
    "    if old[0] == -1:\n",
    "        z = random.randint(0, len(pitchs) -1 )\n",
    "        u[z] = 1\n",
    "        nota = [z + pitchs[0]]\n",
    "    else:\n",
    "        u[(old[0]-pitchs[0])] = 1\n",
    "        nota = [old[0]]\n",
    "\n",
    "    u = u.reshape(1,len(pitchs))\n",
    "    for i in range(1,n_notas+1):\n",
    "        vec =  u*(A**i) #vetor das probabilidades\n",
    "        nota = nota +  list(random.choices(pitchs,weights = vec.T))\n",
    "        \n",
    "    if old[0] != -1:\n",
    "        return nota[1:]\n",
    "        \n",
    "    return nota\n",
    "    \n",
    "    \n"
   ]
  },
  {
   "cell_type": "code",
   "execution_count": 523,
   "metadata": {},
   "outputs": [],
   "source": [
    "A=Markov_matrix(len(pitchs_cello))\n"
   ]
  },
  {
   "cell_type": "code",
   "execution_count": 524,
   "metadata": {},
   "outputs": [],
   "source": [
    "x = note_gen(A,pitchs_cello,10,[-1])"
   ]
  },
  {
   "cell_type": "code",
   "execution_count": 525,
   "metadata": {},
   "outputs": [
    {
     "name": "stderr",
     "output_type": "stream",
     "text": [
      "WARNING:root:Clock is running noticeably behind real time (15.19711 s) on a wait call of 1.0 s; probably processing is too heavy.\n"
     ]
    },
    {
     "name": "stdout",
     "output_type": "stream",
     "text": [
      "Using preset Cello LP for Cello\n"
     ]
    }
   ],
   "source": [
    "Cello = s.new_part('Cello')\n",
    "for i in x:\n",
    "    Cello.play_note(i,1,1) #notas escolhidas seguindo uma cadeia de Markov dada pela Matriz A"
   ]
  },
  {
   "cell_type": "markdown",
   "metadata": {},
   "source": [
    "Para evitar que a música fique lenta na hora de tocar as notas. Irei construir a orquestra antes.\n",
    "Utilizando o Xenaks como inspiração, primeiro selecionamos um instrumento e depois construímos a sequência de notas que serão tocadas pelo instrumento em um dado momento da música. As notas tem duração aleatória.\n",
    "A quantidade de notas segue uma distribuição exponencial, mas foi realizada uma adaptação para que pelo menos uma nota seja tocada."
   ]
  },
  {
   "cell_type": "code",
   "execution_count": 526,
   "metadata": {},
   "outputs": [],
   "source": [
    "#escolhendo instrumentos:\n",
    "#os instrumentos seram escolhidos de forma aleatória, assim como a quantidade de notas que iram tocar naquele momento\n",
    "def create_orc(iterations = 20):\n",
    "    #retorna uma sequencia de vetores contendo o instrumento e as notas que seram tocadas durante o concerto\n",
    "    A_cello = Markov_matrix(len(pitchs_cello))\n",
    "    A_harp  = Markov_matrix(len(pitchs_harp))\n",
    "    A_vio   = Markov_matrix(len(pitchs_violin))\n",
    "    cello_old = [-1]\n",
    "    harp_old = [-1]\n",
    "    vio_old = [-1]\n",
    "\n",
    "\n",
    "    orchestra = [] # seq de vetores, onde primeira entrada é o instrumento e o resto as notas\n",
    "    instrumentos = [0,1,2]  #\"cello\",\"violin\",\"Harp\"\n",
    "    for i in range(iterations):\n",
    "        inst = random.choice(instrumentos)\n",
    "        n_notas = min(10,max(1,int(st.expon.rvs(loc =1, scale = 7))))\n",
    "        if inst == 0:\n",
    "            notes = note_gen(A_cello,pitchs_cello,n_notas,cello_old)\n",
    "            cello_old[0] = notes[-1]\n",
    "        \n",
    "        elif inst == 1:\n",
    "            notes = note_gen(A_vio,pitchs_violin,n_notas,vio_old)\n",
    "            vio_old[0] = notes[-1]\n",
    "        \n",
    "        else: \n",
    "            notes = note_gen(A_harp,pitchs_harp,n_notas,harp_old)\n",
    "            harp_old[0] = notes[-1]\n",
    "            \n",
    "\n",
    "        orchestra.append([inst] + notes) \n",
    "    return orchestra\n"
   ]
  },
  {
   "cell_type": "code",
   "execution_count": 527,
   "metadata": {},
   "outputs": [
    {
     "name": "stdout",
     "output_type": "stream",
     "text": [
      "Using preset Violin LP3 for violin\n"
     ]
    }
   ],
   "source": [
    "vio = s.new_part('violin')"
   ]
  },
  {
   "cell_type": "code",
   "execution_count": 528,
   "metadata": {},
   "outputs": [],
   "source": [
    "Orc = create_orc(3)"
   ]
  },
  {
   "cell_type": "code",
   "execution_count": 529,
   "metadata": {},
   "outputs": [
    {
     "name": "stderr",
     "output_type": "stream",
     "text": [
      "WARNING:root:Clock is running noticeably behind real time (12.46304 s) on a wait call of 1.0 s; probably processing is too heavy.\n"
     ]
    },
    {
     "name": "stdout",
     "output_type": "stream",
     "text": [
      "Done\n"
     ]
    }
   ],
   "source": [
    "\n",
    "\n",
    "s.start_transcribing()\n",
    "for i in Orc:\n",
    "    if i[0] == 0:\n",
    "        for j in i[1:]:\n",
    "            Cello.play_note(j,1,random.choice([1,2,.5,.25]))    \n",
    "        \n",
    "    elif i[0] == 1:\n",
    "        for j in i[1:]:\n",
    "            vio.play_note(j,1,random.choice([1,2,.5,.25]))    \n",
    "\n",
    "    else:\n",
    "        for j in i[1:]:\n",
    "            Harp.play_note(j,1,random.choice([1,2,.5,.25])) \n",
    "s.stop_transcribing().to_score(title = 'Markov Orch',composer = 'Natanael Luciano').show_xml()\n",
    "print('Done')"
   ]
  },
  {
   "cell_type": "markdown",
   "metadata": {},
   "source": [
    "Até o momento o volume das notas está constante, vamos mudar isso criando dinamicas musicais"
   ]
  },
  {
   "cell_type": "code",
   "execution_count": 530,
   "metadata": {},
   "outputs": [],
   "source": [
    "forte_piano = Envelope.from_levels_and_durations(\n",
    "    [0.8,0.4,1], [0.2,0.8], curve_shapes = [0,3]    #entendi a ideia, mas não sei exatamente\n",
    "    #como fuinciona 'teoricamente' essa variação fortepiano. Peguei a ideia nos vídeos que \n",
    "    #andei assistindo\n",
    ")\n",
    "\n",
    "diminuendo = Envelope.from_levels([0.8,0.3])"
   ]
  },
  {
   "cell_type": "markdown",
   "metadata": {},
   "source": [
    "A função abaixo cria uma sequencia contendo as dinamicas de cada nota, essa sequencia é dada por uma cadeia de markov."
   ]
  },
  {
   "cell_type": "code",
   "execution_count": 531,
   "metadata": {},
   "outputs": [],
   "source": [
    "def din_markov(A,n_notas,old):\n",
    "    size = len(A)\n",
    "    u = np.zeros(size)\n",
    "    if old[0] == -1:\n",
    "        z = random.randint(0, size -1 )\n",
    "        u[z] = 1\n",
    "        if z == 0:\n",
    "            dinam = [1]\n",
    "        elif z ==1:\n",
    "            dinam = [forte_piano]\n",
    "        else:\n",
    "            dinam = [diminuendo]\n",
    "    else:\n",
    "        if old[0] == 1:\n",
    "            u[0] = 1\n",
    "        elif old[0] == forte_piano:\n",
    "            u[1] = 1\n",
    "        else:\n",
    "            u[2] = 1\n",
    "        \n",
    "        dinam = [old[0]]\n",
    "\n",
    "    u = u.reshape(1,size)\n",
    "    for i in range(1,n_notas+1):\n",
    "        vec =  u*(A**i) #vetor das probabilidades\n",
    "        dinam = list(dinam) +  list(random.choices([1,forte_piano,diminuendo],weights = vec.T))\n",
    "    #print(dinam) \n",
    "    \n",
    "    if old[0] != -1:\n",
    "        return dinam[1:]\n",
    "    return dinam\n",
    "    "
   ]
  },
  {
   "cell_type": "markdown",
   "metadata": {},
   "source": [
    "Implementando na orchestra as dinamicas criadas acima ."
   ]
  },
  {
   "cell_type": "code",
   "execution_count": 538,
   "metadata": {},
   "outputs": [],
   "source": [
    "def create_orc_2(iterations = 20):\n",
    "    A_cello = Markov_matrix(len(pitchs_cello))\n",
    "    A_harp  = Markov_matrix(len(pitchs_harp))\n",
    "    A_vio   = Markov_matrix(len(pitchs_violin))\n",
    "    A_din = Markov_matrix(3)\n",
    "    cello_old = [-1]\n",
    "    harp_old = [-1]\n",
    "    vio_old = [-1]\n",
    "    din_old = [-1]\n",
    "\n",
    "    orchestra = [] # seq de vetores, onde primeira entrada é o instrumento e o resto as notas\n",
    "    din = [] #seq contendo as dinamicas das notas\n",
    "    instrumentos = [0,1,2]  #\"cello\",\"violin\",\"Harp\"\n",
    "    for i in range(iterations):\n",
    "        inst = random.choice(instrumentos)\n",
    "        n_notas = min(10,max(1,int(st.expon.rvs(loc =1, scale = 7))))\n",
    "        if inst == 0:\n",
    "            notes = note_gen(A_cello,pitchs_cello,n_notas,cello_old)\n",
    "            cello_old[0] = notes[-1]\n",
    "        \n",
    "        elif inst == 1:\n",
    "            notes = note_gen(A_vio,pitchs_violin,n_notas,vio_old)\n",
    "            vio_old[0] = notes[-1]\n",
    "        \n",
    "        else: \n",
    "            notes = note_gen(A_harp,pitchs_harp,n_notas,harp_old)\n",
    "            harp_old[0] = notes[-1]\n",
    "            \n",
    "        dinamics = din_markov(A_din,n_notas,din_old)\n",
    "        din_old[0] = dinamics[-1]\n",
    "        if len(notes) > len(dinamics):\n",
    "            dinamics.append(1)\n",
    "        #print([len(notes),len(dinamics)])\n",
    "        din.append(dinamics)\n",
    "        orchestra.append([inst] + notes)\n",
    "    return [orchestra, din]\n"
   ]
  },
  {
   "cell_type": "markdown",
   "metadata": {},
   "source": [
    "O código abaixo gera a orchestra e toca as notas da mesma. No final, retorna um PDF da partitura."
   ]
  },
  {
   "cell_type": "code",
   "execution_count": 542,
   "metadata": {},
   "outputs": [
    {
     "name": "stdout",
     "output_type": "stream",
     "text": [
      "Using preset Cello LP for Cello\n",
      "Using preset Violin LP3 for Violin\n",
      "Using preset Harp LP2 for Harp\n",
      "Done\n"
     ]
    }
   ],
   "source": [
    "Orc, d = create_orc_2(15)\n",
    "s= Session()\n",
    "\n",
    "Cello = s.new_part('Cello')\n",
    "vio = s.new_part('Violin')\n",
    "Harp = s.new_part('Harp')\n",
    "\n",
    "s.start_transcribing()\n",
    "for w,i in enumerate(Orc):\n",
    "    if i[0] == 0:\n",
    "        for j,p in zip(i[1:],d[w]):\n",
    "            \n",
    "            Cello.play_note(j,p,random.choice([1,2,.5,.25]))    \n",
    "        \n",
    "    elif i[0] == 1:\n",
    "        for j,p in zip(i[1:],d[w]):\n",
    "            vio.play_note(j,p,random.choice([1,2,.5,.25]))    \n",
    "            \n",
    "    else:\n",
    "        for j,p in zip(i[1:],d[w]):\n",
    "            Harp.play_note(j,p,random.choice([1,2,.5,.25]), blocking = random.choice([True,False,False])) \n",
    "            \n",
    "s.stop_transcribing().to_score(title = 'Markov Orch',composer = 'Natanael Luciano').show()\n",
    "print('Done')\n"
   ]
  },
  {
   "cell_type": "markdown",
   "metadata": {},
   "source": [
    "Mude 's.stop_transcribing().to_score(title = 'Markov Orch',composer = 'Natanael Luciano').show()' para 's.stop_transcribing().to_score(title = 'Markov Orch',composer = 'Natanael Luciano').show_xml()' se quiser gerar um arquivo Music xml\n",
    "\n"
   ]
  }
 ],
 "metadata": {
  "kernelspec": {
   "display_name": "Python 3",
   "language": "python",
   "name": "python3"
  },
  "language_info": {
   "codemirror_mode": {
    "name": "ipython",
    "version": 3
   },
   "file_extension": ".py",
   "mimetype": "text/x-python",
   "name": "python",
   "nbconvert_exporter": "python",
   "pygments_lexer": "ipython3",
   "version": "3.8.3"
  }
 },
 "nbformat": 4,
 "nbformat_minor": 4
}
