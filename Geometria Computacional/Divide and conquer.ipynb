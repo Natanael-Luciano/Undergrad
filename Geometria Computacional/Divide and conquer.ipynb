{
 "cells": [
  {
   "cell_type": "code",
   "execution_count": 2,
   "metadata": {},
   "outputs": [],
   "source": [
    "import matplotlib.pyplot as plt\n",
    "from math import *\n",
    "import numpy as np\n",
    "from random import randint"
   ]
  },
  {
   "cell_type": "code",
   "execution_count": 3,
   "metadata": {},
   "outputs": [],
   "source": [
    "def create_points(number,inf=0,sup=50):\n",
    "    return [[randint(inf,sup),randint(inf,sup)] for i in range(number)]\n",
    "\n",
    "def hull_plot(pts, convex_hull = None):\n",
    "    xs,ys = zip(*pts)\n",
    "    plt.scatter(xs,ys)\n",
    "    if convex_hull !=None:\n",
    "        for i in range(1,len(convex_hull)+1):\n",
    "            if i == len(convex_hull):\n",
    "                i=0\n",
    "            c0 = convex_hull[i-1]\n",
    "            c1 = convex_hull[i]\n",
    "            plt.plot((c0[0],c1[0]),(c0[1],c1[1]),'r')\n",
    "    plt.show()"
   ]
  },
  {
   "cell_type": "code",
   "execution_count": 4,
   "metadata": {},
   "outputs": [],
   "source": [
    "def inicial_point(points):\n",
    "    Min_ind= None\n",
    "    Max_ind = None\n",
    "    for i, (x, y) in enumerate(points):\n",
    "    \n",
    "        if Min_ind == None or x < points[Min_ind][0]:\n",
    "            Min_ind = i\n",
    "    \n",
    "        if x ==points[Min_ind][0] and y < points[Min_ind][1]:\n",
    "            Min_ind = i\n",
    "    for i, (x, y) in enumerate(points):\n",
    "    \n",
    "        if Max_ind == None or x > points[Max_ind][0]:\n",
    "            Max_ind = i\n",
    "    \n",
    "        if x ==points[Max_ind][0] and y > points[Max_ind][1]:\n",
    "            Max_ind = i\n",
    "    return Min_ind,Max_ind"
   ]
  },
  {
   "cell_type": "code",
   "execution_count": 5,
   "metadata": {},
   "outputs": [],
   "source": [
    "def distance_reta(p0,p1,p2):\n",
    "    a = p0[1] - p1[1]\n",
    "    b = p1[0] - p0[0]\n",
    "    c = p0[0]*p1[1] - p0[1]*p1[0]\n",
    "    return abs(a*p2[0] + b*p2[1] +c)/sqrt(a**2 +b**2)"
   ]
  },
  {
   "cell_type": "code",
   "execution_count": 6,
   "metadata": {},
   "outputs": [],
   "source": [
    "def create_seg(p1,p2,pts):\n",
    "    above = []\n",
    "    below = []\n",
    "    if p2[0] - p1[0] == 0:\n",
    "        return above,below\n",
    "    m = (p2[1]-p1[1])/(p2[0] - p1[0])\n",
    "    c= -m*p1[0] + p1[1]\n",
    "    for pt in pts:\n",
    "        if pt[1] > m*pt[0] + c:\n",
    "            above.append(pt)\n",
    "        if pt[1] < m*pt[0] + c:\n",
    "            below.append(pt)\n",
    "    return above,below"
   ]
  },
  {
   "cell_type": "code",
   "execution_count": 13,
   "metadata": {},
   "outputs": [],
   "source": [
    "def divide(pts, show_progress = False):\n",
    "    hull = []\n",
    "    sort = sorted(pts,key = lambda x : x[0])\n",
    "    p1 = sort[0]\n",
    "    p2 = sort[-1]\n",
    "    hull = hull + [p1,p2]\n",
    "    del sort[0]\n",
    "    del sort[-1]\n",
    "    \n",
    "    above, below = create_seg(p1,p2,sort)\n",
    "    hull = hull + divide2(p1,p2,above,\"above\")\n",
    "    hull = hull + divide2(p1,p2,below,\"below\")\n",
    "    \n",
    "    return hull\n",
    "    \n",
    "    "
   ]
  },
  {
   "cell_type": "code",
   "execution_count": 8,
   "metadata": {},
   "outputs": [],
   "source": [
    "def divide2(p1,p2,seg,flag):\n",
    "    if seg == [] or p1 == None or p2 == None:\n",
    "        return []\n",
    "    max_distance = -1\n",
    "    max_point = None\n",
    "    for i in seg:\n",
    "        distance = distance_reta(p1,p2,i)\n",
    "        if max_point == None or distance > max_distance:\n",
    "            max_point = i\n",
    "            max_distance = distance\n",
    "    hull = []\n",
    "    hull = hull + [max_point]\n",
    "    del seg[seg.index(max_point)]\n",
    "    \n",
    "    p1a, p1b = create_seg(p1,max_point,seg)\n",
    "    p2a, p2b = create_seg(max_point, p2 ,seg)\n",
    "    if flag == \"above\":\n",
    "        hull = hull + divide2(p1,max_point,p1a,\"above\")\n",
    "        hull = hull + divide2(max_point,p2,p2a,\"above\")\n",
    "    else:\n",
    "        hull = hull + divide2(p1,max_point,p1b,\"below\")\n",
    "        hull = hull + divide2(max_point,p2,p2b,\"below\")\n",
    "    return hull\n",
    "    "
   ]
  },
  {
   "cell_type": "code",
   "execution_count": 23,
   "metadata": {},
   "outputs": [],
   "source": [
    "points = create_points(100)\n"
   ]
  },
  {
   "cell_type": "code",
   "execution_count": 24,
   "metadata": {},
   "outputs": [],
   "source": [
    "\n",
    "hull = divide(points)"
   ]
  },
  {
   "cell_type": "code",
   "execution_count": 25,
   "metadata": {},
   "outputs": [
    {
     "data": {
      "image/png": "[encoded data removed]",
      "text/plain": [
       "<matplotlib.figure.Figure at 0x23ef436e358>"
      ]
     },
     "metadata": {},
     "output_type": "display_data"
    },
    {
     "data": {
      "image/png": "[encoded data removed]",
      "text/plain": [
       "<matplotlib.figure.Figure at 0x23ef43145f8>"
      ]
     },
     "metadata": {},
     "output_type": "display_data"
    }
   ],
   "source": [
    "\n",
    "xs,ys = zip(*points)\n",
    "plt.scatter(xs,ys)\n",
    "zs,hs=zip(*hull)\n",
    "#plt.scatter(zs,hs,c = 'r')\n",
    "i,j = inicial_point(points)\n",
    "points[i] , points[j] \n",
    "plt.show()\n",
    "\n",
    "plt.scatter(xs,ys)\n",
    "plt.scatter(zs,hs,c = 'r')\n",
    "plt.show()\n"
   ]
  },
  {
   "cell_type": "code",
   "execution_count": null,
   "metadata": {},
   "outputs": [],
   "source": []
  }
 ],
 "metadata": {
  "kernelspec": {
   "display_name": "Python 3",
   "language": "python",
   "name": "python3"
  },
  "language_info": {
   "codemirror_mode": {
    "name": "ipython",
    "version": 3
   },
   "file_extension": ".py",
   "mimetype": "text/x-python",
   "name": "python",
   "nbconvert_exporter": "python",
   "pygments_lexer": "ipython3",
   "version": "3.6.4"
  }
 },
 "nbformat": 4,
 "nbformat_minor": 2
}
